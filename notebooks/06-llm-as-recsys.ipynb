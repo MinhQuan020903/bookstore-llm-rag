{
 "cells": [
  {
   "cell_type": "code",
   "execution_count": 6,
   "metadata": {},
   "outputs": [],
   "source": [
    "from langchain.embeddings.openai import OpenAIEmbeddings\n",
    "from langchain.chat_models import ChatOpenAI\n",
    "from langchain.chains.query_constructor.base import AttributeInfo\n",
    "from langchain.chains.conversation.memory import ConversationBufferWindowMemory\n",
    "from langchain.chains import RetrievalQA\n",
    "from langchain.prompts import ChatPromptTemplate\n",
    "from langchain.schema import StrOutputParser\n",
    "from langchain.schema.runnable import RunnablePassthrough\n",
    "from langchain.prompts import PromptTemplate\n",
    "from langchain.schema.runnable import RunnableBranch\n",
    "from langchain.agents import Tool\n",
    "from langchain.agents import initialize_agent"
   ]
  },
  {
   "cell_type": "code",
   "execution_count": 7,
   "metadata": {},
   "outputs": [],
   "source": [
    "import pinecone "
   ]
  },
  {
   "cell_type": "code",
   "execution_count": 8,
   "metadata": {},
   "outputs": [],
   "source": [
    "from dotenv import dotenv_values\n",
    "\n",
    "config = dotenv_values(\"../.env\")"
   ]
  },
  {
   "cell_type": "code",
   "execution_count": 9,
   "metadata": {},
   "outputs": [],
   "source": [
    "PINECONE_API = config['PINECONE_API']\n",
    "PINECONE_ENV = config['PINECONE_ENV']\n",
    "PINECONE_INDEX_NAME = config['PINECONE_INDEX_NAME']"
   ]
  },
  {
   "cell_type": "code",
   "execution_count": null,
   "metadata": {},
   "outputs": [],
   "source": [
    "\n",
    "\n",
    "from pinecone import Pinecone, ServerlessSpec\n",
    "\n",
    "# Create a Pinecone instance\n",
    "pc = Pinecone(api_key=PINECONE_API)\n",
    "\n",
    "# Ensure the index exists or create it\n",
    "if PINECONE_INDEX_NAME not in pc.list_indexes().names():\n",
    "    pc.create_index(\n",
    "        name=PINECONE_INDEX_NAME,\n",
    "        dimension=1024,  # Replace with the correct dimension for your use case\n",
    "        metric='cosine',  # Replace with the correct metric for your use case\n",
    "        spec=ServerlessSpec(\n",
    "            cloud='aws',\n",
    "            region=PINECONE_ENV\n",
    "        )\n",
    "    )\n"
   ]
  },
  {
   "cell_type": "code",
   "execution_count": 16,
   "metadata": {},
   "outputs": [],
   "source": [
    "from FlagEmbedding import FlagModel\n",
    "\n",
    "model = FlagModel('BAAI/bge-large-en-v1.5', \n",
    "                query_instruction_for_retrieval=\"Represent this sentence for searching relevant passages: \",\n",
    "                use_fp16=True)\n",
    "\n",
    "embed = lambda x: model.encode(x).tolist()            "
   ]
  },
  {
   "cell_type": "code",
   "execution_count": null,
   "metadata": {},
   "outputs": [
    {
     "ename": "AttributeError",
     "evalue": "init is no longer a top-level attribute of the pinecone package.\n\nPlease create an instance of the Pinecone class instead.\n\nExample:\n\n    import os\n    from pinecone import Pinecone, ServerlessSpec\n\n    pc = Pinecone(\n        api_key=os.environ.get(\"PINECONE_API_KEY\")\n    )\n\n    # Now do stuff\n    if 'my_index' not in pc.list_indexes().names():\n        pc.create_index(\n            name='my_index', \n            dimension=1536, \n            metric='euclidean',\n            spec=ServerlessSpec(\n                cloud='aws',\n                region='us-west-2'\n            )\n        )\n\n",
     "output_type": "error",
     "traceback": [
      "\u001b[1;31m---------------------------------------------------------------------------\u001b[0m",
      "\u001b[1;31mAttributeError\u001b[0m                            Traceback (most recent call last)",
      "Cell \u001b[1;32mIn[22], line 10\u001b[0m\n\u001b[0;32m      6\u001b[0m index \u001b[38;5;241m=\u001b[39m pc\u001b[38;5;241m.\u001b[39mIndex(PINECONE_INDEX_NAME)\n\u001b[0;32m      8\u001b[0m \u001b[38;5;28;01mimport\u001b[39;00m \u001b[38;5;21;01mpinecone\u001b[39;00m\n\u001b[1;32m---> 10\u001b[0m \u001b[43mpinecone\u001b[49m\u001b[38;5;241;43m.\u001b[39;49m\u001b[43minit\u001b[49m\u001b[43m(\u001b[49m\u001b[43mapi_key\u001b[49m\u001b[38;5;241;43m=\u001b[39;49m\u001b[43mPINECONE_API\u001b[49m\u001b[43m,\u001b[49m\u001b[43m \u001b[49m\u001b[43menvironment\u001b[49m\u001b[38;5;241;43m=\u001b[39;49m\u001b[43mPINECONE_ENV\u001b[49m\u001b[43m)\u001b[49m\n\u001b[0;32m     12\u001b[0m index \u001b[38;5;241m=\u001b[39m pinecone\u001b[38;5;241m.\u001b[39mIndex(PINECONE_INDEX_NAME)  \u001b[38;5;66;03m# This returns the correct type\u001b[39;00m\n",
      "File \u001b[1;32m~\\AppData\\Roaming\\Python\\Python312\\site-packages\\pinecone\\deprecation_warnings.py:39\u001b[0m, in \u001b[0;36minit\u001b[1;34m(*args, **kwargs)\u001b[0m\n\u001b[0;32m     12\u001b[0m     example \u001b[38;5;241m=\u001b[39m \u001b[38;5;124m\"\"\"\u001b[39m\n\u001b[0;32m     13\u001b[0m \u001b[38;5;124m    import os\u001b[39m\n\u001b[0;32m     14\u001b[0m \u001b[38;5;124m    from pinecone import Pinecone, ServerlessSpec\u001b[39m\n\u001b[1;32m   (...)\u001b[0m\n\u001b[0;32m     30\u001b[0m \u001b[38;5;124m        )\u001b[39m\n\u001b[0;32m     31\u001b[0m \u001b[38;5;124m\"\"\"\u001b[39m\n\u001b[0;32m     32\u001b[0m     msg \u001b[38;5;241m=\u001b[39m \u001b[38;5;124mf\u001b[39m\u001b[38;5;124m\"\"\"\u001b[39m\u001b[38;5;124minit is no longer a top-level attribute of the pinecone package.\u001b[39m\n\u001b[0;32m     33\u001b[0m \n\u001b[0;32m     34\u001b[0m \u001b[38;5;124mPlease create an instance of the Pinecone class instead.\u001b[39m\n\u001b[1;32m   (...)\u001b[0m\n\u001b[0;32m     37\u001b[0m \u001b[38;5;132;01m{\u001b[39;00mexample\u001b[38;5;132;01m}\u001b[39;00m\n\u001b[0;32m     38\u001b[0m \u001b[38;5;124m\"\"\"\u001b[39m\n\u001b[1;32m---> 39\u001b[0m     \u001b[38;5;28;01mraise\u001b[39;00m \u001b[38;5;167;01mAttributeError\u001b[39;00m(msg)\n",
      "\u001b[1;31mAttributeError\u001b[0m: init is no longer a top-level attribute of the pinecone package.\n\nPlease create an instance of the Pinecone class instead.\n\nExample:\n\n    import os\n    from pinecone import Pinecone, ServerlessSpec\n\n    pc = Pinecone(\n        api_key=os.environ.get(\"PINECONE_API_KEY\")\n    )\n\n    # Now do stuff\n    if 'my_index' not in pc.list_indexes().names():\n        pc.create_index(\n            name='my_index', \n            dimension=1536, \n            metric='euclidean',\n            spec=ServerlessSpec(\n                cloud='aws',\n                region='us-west-2'\n            )\n        )\n\n"
     ]
    }
   ],
   "source": [
    "import os\n",
    "from pinecone import Pinecone\n",
    "from langchain.vectorstores import Pinecone\n",
    "\n",
    "# Initialize Pinecone client\n",
    "pc = Pinecone(api_key=os.environ.get(\"PINECONE_API_KEY\"))\n",
    "\n",
    "# Define your index name\n",
    "PINECONE_INDEX_NAME = :\n",
    "\n",
    "# Get the correct Pinecone Index instance\n",
    "index = pc.Index(PINECONE_INDEX_NAME)  # ✅ Correct instance\n",
    "\n",
    "# Define the text field name\n",
    "text_field = \"content\"  # Adjust based on your data\n",
    "\n",
    "# Ensure you have an embed function defined\n",
    "vectorstore = Pinecone(index, embed, text_field)  # ✅ Correct usage\n"
   ]
  },
  {
   "cell_type": "code",
   "execution_count": null,
   "metadata": {},
   "outputs": [],
   "source": [
    "user_query = '''\n",
    "Name: Jonathan\n",
    "Age: 29\n",
    "Location: New York, USA\n",
    "Reading Preferences: Fiction, Historical Novels\n",
    "'''"
   ]
  },
  {
   "cell_type": "code",
   "execution_count": null,
   "metadata": {},
   "outputs": [],
   "source": [
    "llm = ChatOpenAI(\n",
    "    model_name='gpt-4-1106-preview',\n",
    "    temperature=0.0\n",
    ")"
   ]
  },
  {
   "cell_type": "code",
   "execution_count": null,
   "metadata": {},
   "outputs": [],
   "source": [
    "def format_docs_title(docs):\n",
    "    return \"\\n\\n\".join([f\"{i+1}. {d.metadata['title']} : {d.page_content}\" for i,d in enumerate(docs)])"
   ]
  },
  {
   "cell_type": "code",
   "execution_count": null,
   "metadata": {},
   "outputs": [
    {
     "data": {
      "text/plain": [
       "'1. Adventures in Jamestown : In this revised edition, The Liberty Letters® series introduces fictional characters whose courage, ingenuity, and faith shaped events in U.S. history. Through the power of friendship, each story reveals how God works through ordinary teens in extraordinary times.<br />DARING YOUNG WOMEN—IN THE NEW WORLD AND THE OLD-- FIND MORE ADVENTURE THAN THEY BARGAINED FOR<br />After enduring a dangerous voyage to the New World, Abigail discovers that her fight for survival in Jamestown has only begun. When she must face her enemy, an Indian princess called Pocahontas, Abigail uncovers the enemy of her own heart—unforgiveness. In London, England, her friend Elizabeth yearns for adventure, but society’s conventions threaten to crush her dreams. As the girls face their deepest fears, they discover how their choices can change a nation’s---and a young woman’s—destiny.\\n\\n2. Masada: The Last Fortress : From the Back Cover:<br /><br />\"In the year 72 C.E., after a four-year war between Rome and Judea, only one fortress remains to be taken: Masada, high above the Dead Sea in what is now Israel. In this eloquent historical novel we meet 17-year-old Simon ben Eleazar, son of the Jewish leader of the Zealots, who records the Roman legion\\'s relentless siege and the moving story of the Jews\\' last stand on Masada.\"\\n\\n3. The Mists of Sorrow (The Morcyth Saga, #7) : The quest to find a friend whose life hangs by a thread, leads James and Jiron back into the heart of the Empire. The impetus behind the hunt is not as it would seem. The life of their friend is but a lure used to draw James to the appointed place at the appointed time. <br /><br />James is ultimately maneuvered to face the power behind the Empire, a dark being whose orchestration of peoples and powers has brought the world to the point of annihilation. He discovers that he, too, has been manipulated in furthering the dark plans of this sinister being. <br /><br />Can James defeat a being that has walked this world for over a millennia? Or will he face defeat and the destruction of all that he has come to hold dear.\\n\\n4. The Reading Group : <p>Sex and politics — in <i>The Reading Group</i> Amanda Lohrey writes with extraordinary flair about how these two inescapable forces are woven into the ordinary lives of all of us.</p><p><i>The Reading Group</i> is set in an indeterminate future at the time of a political crisis in an Australian city. Events are viewed from the perspectives of eight characters who are involved on the fringes of political activity and who have in the past been members of a reading group.</p>\\n\\n5. Magic Tree House: #17-24 : BOOK #17: TONIGHT ON THE TITANIC: Jack and Annie are whisked away to the decks of the Titanic, where they must help two children find their way to a lifeboat - and are in danger of becoming victims of that tragic night themselves.<br /><br />BOOK #18: BUFFALO BEFORE BREAKFAST: Jack and Annie travel to the Old West, where they roam the Great Plains with a Lakota boy.<br /><br />BOOK #19: TIGERS AT TWILIGHT: While in India, Jack and Annie have adventures involving a tiger and other endangered jungle animals.<br /><br />BOOK #20: DINGOES AT DINNERTIME: Jack and Annie are whisked Down Under to the land of Australia, where they save several animals from a raging wildfire.<br /><br />BOOK #21: CIVIL WAR ON SUNDAY: Jack and Annie are transported to the time of the Civil War, where they meet Clara Barton.<br /><br />BOOK #22: REVOLUTIONARY WAR ON WEDNESDAY: Jack and Annie travel back to the time of the American Revolution and help Gen. George Washington during his famous crossing of the Delaware River.<br /><br />BOOK #23: TWISTER ON TUESDAY: Jack and Annie travel back to the Kansas prairie and gain an understanding of how hard life was for pioneers when they experience the terror of a tornado.<br /><br />BOOK #24: EARTHQUAKE IN THE EARLY MORNING: The Magic Tree House takes Jack and Annie to San Francisco in 1906, in time for them to experience one of the biggest earthquakes the United States had ever known.\\n\\n6. King of the Jews: A Novel of the Holocaust : <b>New in Paperback</b><br /><br />This 1979 classic tells the darkly humorous story of I.C. Trumpelman, a man whose fancy determines the fate of others. Chosen as the head of a Judenrat, Trumpelman thrives on the power granted him and creates an authoritarian regime of his own within the ghetto. By turns a con man, charismatic leader and merciless dictator, Trumpelman reveals himself as an extraordinarily complex protagonist.<br /><br />Now available in a new paperback edition from Handsel Books, <i>King of the Jews</i> will continue to be an extraordinary vision of occupied Poland, and offer stunning insight through the trappings of history to questions of equal moral complexity today.<br /><br />\"Mature, brilliantly sustained, thoroughly engrossing.\"<br /> -<i>Newsweek</i><br /><br />\"The best book yet to be written on the Holocaust. A superb novel.\"<br /> -<i>San Francisco Chronicle</i><br /><br />\"Remarkable. A lesson in what artistic restraint can do to help us imagine the dark places in our history.\"<br /> -<i>The New York Times Book Review</i><br /><br />\"Profoundly daring...Epstein can summon up life from the bottom of despair.\"<br /> -<i>The Boston Globe</i><br /><br />\"Epstein has done the impossible. He has shown what the power of art--of his art--can reveal of the depths of the unspeakable.\"<br /> -<i>The Philadelphia Inquirer</i>\\n\\n7. The Crystal Snowstorm (Letzenstein Chronicles, #1) : It is 1847, a time of revolutions throughout Europe. Young Catherine Ayre has been called from her quiet home in England by a grandfather she scarcely knows, Grand Duke Edmond of Letzenstein. She becomes a pawn in the political unrest of the small country. Why does her grandfather so hate her uncle Constant, the rightful heir? And just who is Rafael le Marre? Catherine is swept into exciting adventures before she can feel herself a part of the small but fascinating country of Letzenstein.\\n\\n8. De Buty & The Beast (Faerie Tale Romance) : <b>The Beast of Rose Hill</b><br /><br />The Victorian splendor of the Sedleys\\' manor was a startling incongruity next to its half-naked heiress, but Julian was not surprised; he\\'d heard rumors of Anya\\'s behavior since her shipwreck with pirates in the Caribbean. The young woman had been made a deity—a love goddess, no less!—by a tribe out there, and changed. She had returned an animal: lusty and domineering with no restraint at all. Yet if he were to tame her, he\\'d hold the key to his dreams.<br /><br /><b>&amp; De Buty</b><br /><br />Anya found herself grateful. The suitor her grandmother had provided—the next man to attempt to reform her, to break her to polite North Carolina society—lived up to his name. He <i>was</i> a beauty. But he also claimed celibacy was the way to productivity and health! The man was sick—even if he did have a good heart. Well, Anya had the cure. She would marry him, let him go about changing her...then, when Julian least expected it, she\\'d show him just how wild she really was.\\n\\n9. Heart of the Storm : <b>A bid for freedom...</b><br />The lush, misty island of Madeira seemed a perfect escape from an unwanted bridegroom for shy, bookish heiress Eliza Thoroughgood.<br /><br /><b>Ambushed by desire...</b><br />But barely have they arrived when she and her frail young cousin Aubrey find themselves captive on the exotic vessel of Cyprian Dare—a man whose bold hands and even bolder mouth arouse a tiny, wicked part of Eliza. <br /><br /><b>An exquisite revenge...</b><br />Cyprian never forgave the man who abandoned his mother and made him a bastard. Now that man\\'s heir, the boy Aubrey, will be his instrument of revenge—however furiously the beautiful Eliza guards him.<br /><br /><b>Foiled by an ecstatic love...</b><br />For Cyprian, it will be an easy matter to tame this lovely innocent in the sweet, dark seaswept night...until Eliza\\'s passionate heart challenges him to a choice he could never have foreseen.\\n\\n10. A Harlot\\'s Progress : A HARLOT\\'S PROGRESS reinvents William Hogarth\\'s famous painting of 1732 which tells the story of a whore, a Jewish merchant, a magistrate and a quack doctor bound together by sexual and financial greed. Dabydeen\\'s novel endows Hogarth\\'s characters with alternative potential lives, redeeming them for their cliched status as predators or victims. The protagonist - in Hogarth, a black slave boy, in Dabydeen, London\\'s oldest black inhabitant - is forced to tell his story to the Abolitionists in return for their charity. He refuses however to supply parade of grievances, and to give a simplistic account of beatings, sexual abuses, etc. He will not embark upon yet another fictional journey into the dark nature of slavery for the voyeuristic delight of the English reader. Instead, the old man ties the reader up in knots as deftly as a harlot her client: he spins a tale of myths, half-truths and fantasies; recreating Africa and eighteenth-century London in startlingly poetic ways. What matters to him is the odyssey into poetry, the rich texture of his narrative, not its truthfulness. In this, his fourth novel, David Dabydeen opens up history to myriad imaginary interpretations, repopulating a vanished world with a strange, defiantly vivid and compassionate humanity.'"
      ]
     },
     "execution_count": 26,
     "metadata": {},
     "output_type": "execute_result"
    }
   ],
   "source": [
    "pineconeRetreiver = vectorstore.as_retriever(\n",
    "        search_kwargs={'k' : 10}\n",
    ")\n",
    "\n",
    "candidate_books_qa = pineconeRetreiver | format_docs_title\n",
    "\n",
    "candidate_books_qa.invoke(user_query)"
   ]
  },
  {
   "cell_type": "code",
   "execution_count": null,
   "metadata": {},
   "outputs": [],
   "source": [
    "from langchain.output_parsers import CommaSeparatedListOutputParser\n",
    "output_parser = CommaSeparatedListOutputParser()\n",
    "format_instructions = output_parser.get_format_instructions()"
   ]
  },
  {
   "cell_type": "code",
   "execution_count": null,
   "metadata": {},
   "outputs": [
    {
     "data": {
      "text/plain": [
       "'Your response should be a list of comma separated values, eg: `foo, bar, baz`'"
      ]
     },
     "execution_count": 40,
     "metadata": {},
     "output_type": "execute_result"
    }
   ],
   "source": [
    "format_instructions"
   ]
  },
  {
   "cell_type": "code",
   "execution_count": null,
   "metadata": {},
   "outputs": [],
   "source": [
    "chain = (\n",
    "    {\"candidate_books\" : candidate_books_qa, 'user_information' : RunnablePassthrough()}\n",
    "    | PromptTemplate.from_template(\n",
    "        \"\"\"\n",
    "        You are a recommender. Based on the user's profile and behaviors,\n",
    "        recommending a suitable book that she will like. Output the title of recommended book.\n",
    "        \n",
    "        User Information: \n",
    "        {user_information}\n",
    "\n",
    "        Candidate Books:\n",
    "        {candidate_books}\n",
    "\n",
    "        Your response should be a list of comma separated values, eg: `foo, bar, baz`\n",
    "        \"\"\"\n",
    "    )\n",
    "    | llm\n",
    "    | output_parser\n",
    ")"
   ]
  },
  {
   "cell_type": "code",
   "execution_count": null,
   "metadata": {},
   "outputs": [
    {
     "data": {
      "text/plain": [
       "['Masada: The Last Fortress']"
      ]
     },
     "execution_count": 43,
     "metadata": {},
     "output_type": "execute_result"
    }
   ],
   "source": [
    "chain.invoke(user_query)"
   ]
  },
  {
   "cell_type": "code",
   "execution_count": null,
   "metadata": {},
   "outputs": [],
   "source": []
  }
 ],
 "metadata": {
  "kernelspec": {
   "display_name": "Python 3",
   "language": "python",
   "name": "python3"
  },
  "language_info": {
   "codemirror_mode": {
    "name": "ipython",
    "version": 3
   },
   "file_extension": ".py",
   "mimetype": "text/x-python",
   "name": "python",
   "nbconvert_exporter": "python",
   "pygments_lexer": "ipython3",
   "version": "3.12.2"
  }
 },
 "nbformat": 4,
 "nbformat_minor": 2
}
